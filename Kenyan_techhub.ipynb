{
  "nbformat": 4,
  "nbformat_minor": 0,
  "metadata": {
    "colab": {
      "name": "Kenyan_techhub.ipynb",
      "provenance": [],
      "collapsed_sections": []
    },
    "kernelspec": {
      "name": "python3",
      "display_name": "Python 3"
    },
    "language_info": {
      "name": "python"
    }
  },
  "cells": [
    {
      "cell_type": "code",
      "metadata": {
        "id": "Ee9aNjEDBdES"
      },
      "source": [
        "import requests\n",
        "import json\n",
        "import pandas as pd\n",
        "import numpy as np"
      ],
      "execution_count": 1,
      "outputs": []
    },
    {
      "cell_type": "markdown",
      "metadata": {
        "id": "qfU0VKLct84u"
      },
      "source": [
        ">Consider a dataset providing information on the functionality of infrastructure resources,\n",
        "for each water point it includes the name of the village it is in and its functional state.\n",
        "Implement a data processing module in python which takes a dataset URL as input and\n",
        "returns:\n",
        "\n",
        "1. The number of water points that are functional,\n",
        "2. The number of water points per community,\n",
        "3. The rank for each community by the percentage of broken water points."
      ]
    },
    {
      "cell_type": "code",
      "metadata": {
        "id": "dKjRSFqkBlh_"
      },
      "source": [
        "url = \"https://raw.githubusercontent.com/onaio/ona-tech/master/data/water_points.json\"\n",
        "\n",
        "\n",
        "df = pd.read_json(url)"
      ],
      "execution_count": 2,
      "outputs": []
    },
    {
      "cell_type": "code",
      "metadata": {
        "colab": {
          "base_uri": "https://localhost:8080/",
          "height": 320
        },
        "id": "oYyVK7CnBlez",
        "outputId": "aba6633f-c594-4e2f-977d-fbc6982686d8"
      },
      "source": [
        "df.head(3)"
      ],
      "execution_count": 3,
      "outputs": [
        {
          "output_type": "execute_result",
          "data": {
            "text/html": [
              "<div>\n",
              "<style scoped>\n",
              "    .dataframe tbody tr th:only-of-type {\n",
              "        vertical-align: middle;\n",
              "    }\n",
              "\n",
              "    .dataframe tbody tr th {\n",
              "        vertical-align: top;\n",
              "    }\n",
              "\n",
              "    .dataframe thead th {\n",
              "        text-align: right;\n",
              "    }\n",
              "</style>\n",
              "<table border=\"1\" class=\"dataframe\">\n",
              "  <thead>\n",
              "    <tr style=\"text-align: right;\">\n",
              "      <th></th>\n",
              "      <th>water_pay</th>\n",
              "      <th>respondent</th>\n",
              "      <th>research_asst_name</th>\n",
              "      <th>water_used_season</th>\n",
              "      <th>_bamboo_dataset_id</th>\n",
              "      <th>_deleted_at</th>\n",
              "      <th>water_point_condition</th>\n",
              "      <th>_xform_id_string</th>\n",
              "      <th>other_point_1km</th>\n",
              "      <th>_attachments</th>\n",
              "      <th>communities_villages</th>\n",
              "      <th>end</th>\n",
              "      <th>animal_number</th>\n",
              "      <th>water_point_id</th>\n",
              "      <th>start</th>\n",
              "      <th>water_connected</th>\n",
              "      <th>water_manager_name</th>\n",
              "      <th>_status</th>\n",
              "      <th>enum_id_1</th>\n",
              "      <th>water_lift_mechanism</th>\n",
              "      <th>districts_divisions</th>\n",
              "      <th>_uuid</th>\n",
              "      <th>grid</th>\n",
              "      <th>date</th>\n",
              "      <th>formhub/uuid</th>\n",
              "      <th>road_available</th>\n",
              "      <th>water_functioning</th>\n",
              "      <th>_submission_time</th>\n",
              "      <th>signal</th>\n",
              "      <th>water_source_type</th>\n",
              "      <th>_geolocation</th>\n",
              "      <th>water_point_image</th>\n",
              "      <th>water_point_geocode</th>\n",
              "      <th>deviceid</th>\n",
              "      <th>locations_wards</th>\n",
              "      <th>water_manager</th>\n",
              "      <th>water_developer</th>\n",
              "      <th>_id</th>\n",
              "      <th>animal_point</th>\n",
              "      <th>water_mechanism_plate</th>\n",
              "      <th>water_lift_mechanism_type</th>\n",
              "      <th>road_type</th>\n",
              "      <th>water_mechanism_plate_units</th>\n",
              "      <th>water_mechanism_plate_no</th>\n",
              "      <th>water_not_functioning</th>\n",
              "      <th>water_source_type_other</th>\n",
              "      <th>simserial</th>\n",
              "      <th>subscriberid</th>\n",
              "    </tr>\n",
              "  </thead>\n",
              "  <tbody>\n",
              "    <tr>\n",
              "      <th>0</th>\n",
              "      <td>no</td>\n",
              "      <td>community</td>\n",
              "      <td>Haruna Mohammed</td>\n",
              "      <td>year_round</td>\n",
              "      <td></td>\n",
              "      <td>NaT</td>\n",
              "      <td>functioning</td>\n",
              "      <td>_08_Water_points_CV</td>\n",
              "      <td>no</td>\n",
              "      <td>[north_ghana/attachments/1351696546452.jpg]</td>\n",
              "      <td>Gumaryili</td>\n",
              "      <td>2012-11-12T11:46:32.454Z</td>\n",
              "      <td>more_500</td>\n",
              "      <td>xxx</td>\n",
              "      <td>2012-10-31T15:11:04.618Z</td>\n",
              "      <td>no</td>\n",
              "      <td>community members</td>\n",
              "      <td>submitted_via_web</td>\n",
              "      <td>5</td>\n",
              "      <td>no</td>\n",
              "      <td>northern</td>\n",
              "      <td>f8bcee72d7a0400fb99ae11bbf804010</td>\n",
              "      <td>grid_further_500_m</td>\n",
              "      <td>2012-10-31</td>\n",
              "      <td>4d41d54d134c4bfa9078571addd819b9</td>\n",
              "      <td>no</td>\n",
              "      <td>yes</td>\n",
              "      <td>2012-11-13 07:13:57</td>\n",
              "      <td>low</td>\n",
              "      <td>dam_dugout</td>\n",
              "      <td>[10.1892764, -0.66410362]</td>\n",
              "      <td>1351696546452.jpg</td>\n",
              "      <td>10.1892764 -0.66410362 155.10000610351563 5.0</td>\n",
              "      <td>355047040123780</td>\n",
              "      <td>west_mamprusi</td>\n",
              "      <td>community</td>\n",
              "      <td>community</td>\n",
              "      <td>381705</td>\n",
              "      <td>yes</td>\n",
              "      <td>NaN</td>\n",
              "      <td>NaN</td>\n",
              "      <td>NaN</td>\n",
              "      <td>NaN</td>\n",
              "      <td>NaN</td>\n",
              "      <td>NaN</td>\n",
              "      <td>NaN</td>\n",
              "      <td>NaN</td>\n",
              "      <td>NaN</td>\n",
              "    </tr>\n",
              "    <tr>\n",
              "      <th>1</th>\n",
              "      <td>no</td>\n",
              "      <td>community</td>\n",
              "      <td>Haruna Mohmmed</td>\n",
              "      <td>year_round</td>\n",
              "      <td></td>\n",
              "      <td>NaT</td>\n",
              "      <td>functioning</td>\n",
              "      <td>_08_Water_points_CV</td>\n",
              "      <td>yes</td>\n",
              "      <td>[north_ghana/attachments/1351701849971.jpg]</td>\n",
              "      <td>Selinvoya</td>\n",
              "      <td>2012-11-12T11:49:36.619Z</td>\n",
              "      <td>50_to_500</td>\n",
              "      <td>xxx</td>\n",
              "      <td>2012-10-31T16:41:49.738Z</td>\n",
              "      <td>no</td>\n",
              "      <td>Amadu Salifu</td>\n",
              "      <td>submitted_via_web</td>\n",
              "      <td>5</td>\n",
              "      <td>yes</td>\n",
              "      <td>northern</td>\n",
              "      <td>c2f6b298955f47ab9f177bee1214141d</td>\n",
              "      <td>grid_further_500_m</td>\n",
              "      <td>2012-10-31</td>\n",
              "      <td>4d41d54d134c4bfa9078571addd819b9</td>\n",
              "      <td>yes</td>\n",
              "      <td>yes</td>\n",
              "      <td>2012-11-13 07:14:04</td>\n",
              "      <td>high</td>\n",
              "      <td>unprotected_well</td>\n",
              "      <td>[10.28173052, -0.56901122]</td>\n",
              "      <td>1351701849971.jpg</td>\n",
              "      <td>10.28173052 -0.56901122 201.89999389648438 5.0</td>\n",
              "      <td>355047040123780</td>\n",
              "      <td>west_mamprusi</td>\n",
              "      <td>individual</td>\n",
              "      <td>community</td>\n",
              "      <td>381706</td>\n",
              "      <td>yes</td>\n",
              "      <td>no</td>\n",
              "      <td>manual_power</td>\n",
              "      <td>gravel</td>\n",
              "      <td>NaN</td>\n",
              "      <td>NaN</td>\n",
              "      <td>NaN</td>\n",
              "      <td>NaN</td>\n",
              "      <td>NaN</td>\n",
              "      <td>NaN</td>\n",
              "    </tr>\n",
              "    <tr>\n",
              "      <th>2</th>\n",
              "      <td>no</td>\n",
              "      <td>community</td>\n",
              "      <td>Haruna Mohammed</td>\n",
              "      <td>year_round</td>\n",
              "      <td></td>\n",
              "      <td>NaT</td>\n",
              "      <td>functioning</td>\n",
              "      <td>_08_Water_points_CV</td>\n",
              "      <td>yes</td>\n",
              "      <td>[north_ghana/attachments/1351702462336.jpg]</td>\n",
              "      <td>Selinvoya</td>\n",
              "      <td>2012-10-31T16:57:37.864Z</td>\n",
              "      <td>50_to_500</td>\n",
              "      <td>xxx</td>\n",
              "      <td>2012-10-31T16:52:02.601Z</td>\n",
              "      <td>no</td>\n",
              "      <td>Sulemana Abdulai</td>\n",
              "      <td>submitted_via_web</td>\n",
              "      <td>5</td>\n",
              "      <td>yes</td>\n",
              "      <td>northern</td>\n",
              "      <td>6bc6d188611d47f6a666cfd1eaa33998</td>\n",
              "      <td>grid_further_500_m</td>\n",
              "      <td>2012-10-31</td>\n",
              "      <td>4d41d54d134c4bfa9078571addd819b9</td>\n",
              "      <td>yes</td>\n",
              "      <td>yes</td>\n",
              "      <td>2012-11-13 07:14:07</td>\n",
              "      <td>high</td>\n",
              "      <td>borehole</td>\n",
              "      <td>[10.28169238, -0.56962993]</td>\n",
              "      <td>1351702462336.jpg</td>\n",
              "      <td>10.28169238 -0.56962993 202.60000610351563 5.0</td>\n",
              "      <td>355047040123780</td>\n",
              "      <td>west_mamprusi</td>\n",
              "      <td>community</td>\n",
              "      <td>individual</td>\n",
              "      <td>381707</td>\n",
              "      <td>yes</td>\n",
              "      <td>no</td>\n",
              "      <td>manual_power</td>\n",
              "      <td>paved</td>\n",
              "      <td>NaN</td>\n",
              "      <td>NaN</td>\n",
              "      <td>NaN</td>\n",
              "      <td>NaN</td>\n",
              "      <td>NaN</td>\n",
              "      <td>NaN</td>\n",
              "    </tr>\n",
              "  </tbody>\n",
              "</table>\n",
              "</div>"
            ],
            "text/plain": [
              "  water_pay respondent  ... simserial subscriberid\n",
              "0        no  community  ...       NaN          NaN\n",
              "1        no  community  ...       NaN          NaN\n",
              "2        no  community  ...       NaN          NaN\n",
              "\n",
              "[3 rows x 48 columns]"
            ]
          },
          "metadata": {},
          "execution_count": 3
        }
      ]
    },
    {
      "cell_type": "markdown",
      "metadata": {
        "id": "dnX2jfzSuU12"
      },
      "source": [
        "###### No of Water Points that are functional"
      ]
    },
    {
      "cell_type": "code",
      "metadata": {
        "colab": {
          "base_uri": "https://localhost:8080/"
        },
        "id": "mvDSUSVThGDO",
        "outputId": "994c14bb-d72b-44c6-d3e8-f92ba462acd5"
      },
      "source": [
        "df['water_point_condition'].value_counts()"
      ],
      "execution_count": 4,
      "outputs": [
        {
          "output_type": "execute_result",
          "data": {
            "text/plain": [
              "functioning           590\n",
              "broken                 40\n",
              "abandoned              36\n",
              "newly_constructed      28\n",
              "under_construction     16\n",
              "na_dn                   2\n",
              "Name: water_point_condition, dtype: int64"
            ]
          },
          "metadata": {},
          "execution_count": 4
        }
      ]
    },
    {
      "cell_type": "markdown",
      "metadata": {
        "id": "OfJdkJ4Suf_q"
      },
      "source": [
        "###### The number of water points per community"
      ]
    },
    {
      "cell_type": "code",
      "metadata": {
        "colab": {
          "base_uri": "https://localhost:8080/"
        },
        "id": "QJmQJQzAhZPI",
        "outputId": "aeb0d99a-38fc-4ae4-da3f-fa5373ddabbf"
      },
      "source": [
        "df.groupby('communities_villages')['water_point_condition'].agg(len)"
      ],
      "execution_count": 14,
      "outputs": [
        {
          "output_type": "execute_result",
          "data": {
            "text/plain": [
              "communities_villages\n",
              "Abanyeri        4\n",
              "Akpari-yeri     3\n",
              "Alavanyo        3\n",
              "Arigu          12\n",
              "Badomsa        27\n",
              "               ..\n",
              "Zogsa           6\n",
              "Zua            28\n",
              "Zuedema        18\n",
              "Zukpeni         6\n",
              "Zundem         30\n",
              "Name: water_point_condition, Length: 65, dtype: int64"
            ]
          },
          "metadata": {},
          "execution_count": 14
        }
      ]
    },
    {
      "cell_type": "markdown",
      "metadata": {
        "id": "FUXuOtOCupGk"
      },
      "source": [
        "##### The rank for each community by the percentage of broken water points"
      ]
    },
    {
      "cell_type": "code",
      "metadata": {
        "id": "iNva6PyKeNZr"
      },
      "source": [
        "broken = df[df['water_point_condition']=='broken']"
      ],
      "execution_count": 9,
      "outputs": []
    },
    {
      "cell_type": "code",
      "metadata": {
        "colab": {
          "base_uri": "https://localhost:8080/"
        },
        "id": "sbfpxS4jekfK",
        "outputId": "581da459-4b09-4e19-fe0d-68c89076d127"
      },
      "source": [
        "broken.groupby('communities_villages')['water_point_condition'].value_counts().sort_values(ascending=False)"
      ],
      "execution_count": 11,
      "outputs": [
        {
          "output_type": "execute_result",
          "data": {
            "text/plain": [
              "communities_villages  water_point_condition\n",
              "Nayoku                broken                   6\n",
              "Loagri_1_             broken                   4\n",
              "Kubore                broken                   4\n",
              "Bandem                broken                   2\n",
              "Gbaarigu              broken                   2\n",
              "Namgurima             broken                   2\n",
              "Arigu                 broken                   2\n",
              "Soo                   broken                   2\n",
              "Vundema               broken                   2\n",
              "Zanwara               broken                   2\n",
              "Nyankpiensa           broken                   1\n",
              "Luisa                 broken                   1\n",
              "Longsa                broken                   1\n",
              "Zogsa                 broken                   1\n",
              "Tantala               broken                   1\n",
              "Kpatarigu             broken                   1\n",
              "Kanwaasa              broken                   1\n",
              "Kaasa                 broken                   1\n",
              "Jagsa                 broken                   1\n",
              "Guuta                 broken                   1\n",
              "Banyangsa             broken                   1\n",
              "Zukpeni               broken                   1\n",
              "Name: water_point_condition, dtype: int64"
            ]
          },
          "metadata": {},
          "execution_count": 11
        }
      ]
    },
    {
      "cell_type": "markdown",
      "metadata": {
        "id": "ECX89FhVfq_S"
      },
      "source": [
        "##### Rank of Communities by functioning water points"
      ]
    },
    {
      "cell_type": "code",
      "metadata": {
        "colab": {
          "base_uri": "https://localhost:8080/"
        },
        "id": "vouU6tHBf4ER",
        "outputId": "7af6d60d-38d6-430f-f982-b4bf53b1af7b"
      },
      "source": [
        "functioning  = df[df['water_point_condition']=='functioning']\n",
        "\n",
        "functioning.groupby('communities_villages')['water_point_condition'].value_counts().sort_values(ascending=False)"
      ],
      "execution_count": 13,
      "outputs": [
        {
          "output_type": "execute_result",
          "data": {
            "text/plain": [
              "communities_villages  water_point_condition\n",
              "Kpatarigu             functioning              43\n",
              "Jagsa                 functioning              34\n",
              "Nayoku                functioning              29\n",
              "Nabulugu              functioning              29\n",
              "Zundem                functioning              29\n",
              "                                               ..\n",
              "Gbaarigu              functioning               2\n",
              "Garigu                functioning               1\n",
              "Suik                  functioning               1\n",
              "Gumaryili             functioning               1\n",
              "Jiniensa              functioning               1\n",
              "Name: water_point_condition, Length: 64, dtype: int64"
            ]
          },
          "metadata": {},
          "execution_count": 13
        }
      ]
    },
    {
      "cell_type": "markdown",
      "metadata": {
        "id": "94dEIiaYUZXC"
      },
      "source": [
        "## Additional questions to be answered from the dataset\n",
        "\n",
        "1. Water source types in different communities"
      ]
    },
    {
      "cell_type": "code",
      "metadata": {
        "colab": {
          "base_uri": "https://localhost:8080/"
        },
        "id": "lmhZnorcUz7V",
        "outputId": "985a6095-ec1c-4d6e-9c34-5a88b3f7fd53"
      },
      "source": [
        "df.groupby('communities_villages')['water_source_type'].value_counts()"
      ],
      "execution_count": 15,
      "outputs": [
        {
          "output_type": "execute_result",
          "data": {
            "text/plain": [
              "communities_villages  water_source_type\n",
              "Abanyeri              borehole              2\n",
              "                      protected_well        1\n",
              "                      unprotected_well      1\n",
              "Akpari-yeri           borehole              1\n",
              "                      other                 1\n",
              "                                           ..\n",
              "Zukpeni               borehole              5\n",
              "                      unprotected_well      1\n",
              "Zundem                unprotected_well     21\n",
              "                      protected_well        5\n",
              "                      borehole              4\n",
              "Name: water_source_type, Length: 166, dtype: int64"
            ]
          },
          "metadata": {},
          "execution_count": 15
        }
      ]
    },
    {
      "cell_type": "markdown",
      "metadata": {
        "id": "Qz73xJPfXRRl"
      },
      "source": [
        "2. Communities by total water sources"
      ]
    },
    {
      "cell_type": "code",
      "metadata": {
        "colab": {
          "base_uri": "https://localhost:8080/"
        },
        "id": "cTfqrFs4W3ri",
        "outputId": "9e73d659-580d-4df5-9b3c-fcf7dace2a1b"
      },
      "source": [
        "df.groupby('communities_villages')['water_source_type'].agg(len).sort_values(ascending=False)"
      ],
      "execution_count": 17,
      "outputs": [
        {
          "output_type": "execute_result",
          "data": {
            "text/plain": [
              "communities_villages\n",
              "Kpatarigu    51\n",
              "Jagsa        38\n",
              "Nayoku       35\n",
              "Guuta        32\n",
              "Nabulugu     31\n",
              "             ..\n",
              "Garigu        1\n",
              "Gumaryili     1\n",
              "Suik          1\n",
              "Jiniensa      1\n",
              "Kalaasa       1\n",
              "Name: water_source_type, Length: 65, dtype: int64"
            ]
          },
          "metadata": {},
          "execution_count": 17
        }
      ]
    },
    {
      "cell_type": "markdown",
      "metadata": {
        "id": "Aj3gto30Xh2d"
      },
      "source": [
        "4. Water developers for all communities count"
      ]
    },
    {
      "cell_type": "code",
      "metadata": {
        "id": "rEfyYJlrWYDC",
        "colab": {
          "base_uri": "https://localhost:8080/"
        },
        "outputId": "7bc3d6c3-a84d-466d-cb0f-3b78082d3949"
      },
      "source": [
        "df['water_developer'].value_counts()"
      ],
      "execution_count": 18,
      "outputs": [
        {
          "output_type": "execute_result",
          "data": {
            "text/plain": [
              "individual          244\n",
              "local_autority      132\n",
              "community           132\n",
              "international       132\n",
              "state_government     54\n",
              "private               6\n",
              "na_dn                 6\n",
              "public                4\n",
              "other'                2\n",
              "Name: water_developer, dtype: int64"
            ]
          },
          "metadata": {},
          "execution_count": 18
        }
      ]
    },
    {
      "cell_type": "code",
      "metadata": {
        "colab": {
          "base_uri": "https://localhost:8080/"
        },
        "id": "MJG9EuL8aVlt",
        "outputId": "f46d077d-e8ea-4e07-8234-2b3f151831d4"
      },
      "source": [
        "df.groupby('communities_villages')['water_developer'].value_counts()"
      ],
      "execution_count": 19,
      "outputs": [
        {
          "output_type": "execute_result",
          "data": {
            "text/plain": [
              "communities_villages  water_developer\n",
              "Abanyeri              local_autority      3\n",
              "                      community           1\n",
              "Akpari-yeri           local_autority      2\n",
              "                      other'              1\n",
              "Alavanyo              community           2\n",
              "                                         ..\n",
              "Zukpeni               community           1\n",
              "Zundem                individual         12\n",
              "                      community          10\n",
              "                      international       4\n",
              "                      local_autority      4\n",
              "Name: water_developer, Length: 167, dtype: int64"
            ]
          },
          "metadata": {},
          "execution_count": 19
        }
      ]
    }
  ]
}